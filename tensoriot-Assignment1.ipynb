{
 "cells": [
  {
   "cell_type": "code",
   "execution_count": 1,
   "id": "5f76fb42",
   "metadata": {},
   "outputs": [],
   "source": [
    "from pyspark.sql import SparkSession\n",
    "from pyspark.sql.types import *\n",
    "from pyspark.sql.functions import col, count, min, max, length, from_unixtime, date_format\n"
   ]
  },
  {
   "cell_type": "code",
   "execution_count": 2,
   "id": "eeb91810",
   "metadata": {},
   "outputs": [
    {
     "name": "stderr",
     "output_type": "stream",
     "text": [
      "23/10/25 21:46:36 WARN Utils: Your hostname, Rapidos-MacBook-Pro-85.local resolves to a loopback address: 127.0.0.1; using 172.20.10.12 instead (on interface en0)\n",
      "23/10/25 21:46:36 WARN Utils: Set SPARK_LOCAL_IP if you need to bind to another address\n",
      "Setting default log level to \"WARN\".\n",
      "To adjust logging level use sc.setLogLevel(newLevel). For SparkR, use setLogLevel(newLevel).\n",
      "23/10/25 21:46:37 WARN NativeCodeLoader: Unable to load native-hadoop library for your platform... using builtin-java classes where applicable\n",
      "/Users/mac/Library/Python/3.7/lib/python/site-packages/pyspark/context.py:317: FutureWarning: Python 3.7 support is deprecated in Spark 3.4.\n",
      "  warnings.warn(\"Python 3.7 support is deprecated in Spark 3.4.\", FutureWarning)\n"
     ]
    }
   ],
   "source": [
    "spark = SparkSession.builder.appName(\"tensoriot-Assignment1\").getOrCreate()\n"
   ]
  },
  {
   "cell_type": "code",
   "execution_count": 3,
   "id": "a07d4857",
   "metadata": {},
   "outputs": [],
   "source": [
    "#Assignment1"
   ]
  },
  {
   "cell_type": "code",
   "execution_count": 4,
   "id": "a0d372a6",
   "metadata": {},
   "outputs": [],
   "source": [
    "#parse and load only required cols from json data\n",
    "schema = StructType([\n",
    "    StructField('asin', StringType(), True),\n",
    "    StructField('overall', DoubleType(), True), \n",
    "    StructField('reviewText', StringType(), True),\n",
    "    StructField('reviewerID', StringType(), True),\n",
    "    StructField('unixReviewTime', LongType(), True)\n",
    "])"
   ]
  },
  {
   "cell_type": "code",
   "execution_count": 5,
   "id": "6cd5e7d7",
   "metadata": {},
   "outputs": [],
   "source": [
    "#input path can be input params to job \n",
    "#reviews.json is just chunk of data \n",
    "file_path = \"/Users/mac/tensoriot/reviews.json\"\n",
    "reviews_df = spark.read.schema(schema).json(file_path)\n",
    "\n",
    "#dropping rows which having null values ie data cleansing\n",
    "reviews_no_null_df = reviews_df.na.drop()\n"
   ]
  },
  {
   "cell_type": "code",
   "execution_count": 6,
   "id": "d4b3b2ef",
   "metadata": {},
   "outputs": [
    {
     "name": "stderr",
     "output_type": "stream",
     "text": [
      "                                                                                \r"
     ]
    },
    {
     "data": {
      "text/plain": [
       "4469063"
      ]
     },
     "execution_count": 6,
     "metadata": {},
     "output_type": "execute_result"
    }
   ],
   "source": [
    "reviews_df.count()"
   ]
  },
  {
   "cell_type": "code",
   "execution_count": 7,
   "id": "535db339",
   "metadata": {},
   "outputs": [
    {
     "name": "stdout",
     "output_type": "stream",
     "text": [
      "+----------+-------+--------------------+--------------+--------------+\n",
      "|      asin|overall|          reviewText|    reviewerID|unixReviewTime|\n",
      "+----------+-------+--------------------+--------------+--------------+\n",
      "|B017O9P72A|    2.0|Can only control ...|A3KUPJ396OQF78|    1449273600|\n",
      "|B017O9P72A|    5.0|         Great skill|A3TXR8GLKS19RE|    1515974400|\n",
      "|B017O9P72A|    1.0|Not happy. Can no...|A1FOHYK23FJ6CN|    1515024000|\n",
      "|B017O9P72A|    1.0|Can not connect a...|A1RRDX9AOST1AN|    1514592000|\n",
      "|B017O9P72A|    1.0|The service works...| AA4DHYT5YSSIT|    1514505600|\n",
      "|B017O9P72A|    5.0|I haven't had any...|A2LNJJWW2TLL00|    1511481600|\n",
      "|B017O9P72A|    1.0|This app forces y...|A1M5UIUZ2P5FFO|    1511395200|\n",
      "|B017O9P72A|    4.0|This skill works ...|A18JLUE8V4G7TX|    1508371200|\n",
      "|B017O9P72A|    1.0|Who would think y...|A1E35W9YOVAH1G|    1505260800|\n",
      "|B017O9P72A|    5.0|Once I got used t...| ACZKH8ZBMNTN0|    1490659200|\n",
      "|B017O9P72A|    3.0|So far I have no ...|A3IZ10SN6PLWA1|    1489708800|\n",
      "|B017O9P72A|    1.0|As others have st...|A1CSXI9KXC34MG|    1489363200|\n",
      "|B017O9P72A|    1.0|When giving instr...|A28PQDHWYGTYCA|    1489276800|\n",
      "|B017O9P72A|    3.0|I wish I was able...|A13JBMUJ6WW7V8|    1488758400|\n",
      "|B017O9P72A|    1.0|When trying to li...|A2PR1HM2173XW0|    1488240000|\n",
      "|B017O9P72A|    1.0|Can't authorize m...|A2C0CC1OS1EVR3|    1487289600|\n",
      "|B017O9P72A|    5.0|Remember.. there ...|A1E8AT51T4RTFV|    1486944000|\n",
      "|B017O9P72A|    1.0|I love my Lifx bu...|A2GCXCN7SU3MI4|    1483833600|\n",
      "|B017O9P72A|    1.0|Will not authoriz...|A2RDT3XZJ3KO8V|    1483401600|\n",
      "|B017O9P72A|    1.0|Horrific. Lights ...|A1WP68243XC735|    1483315200|\n",
      "+----------+-------+--------------------+--------------+--------------+\n",
      "only showing top 20 rows\n",
      "\n"
     ]
    }
   ],
   "source": [
    "reviews_df.show()"
   ]
  },
  {
   "cell_type": "code",
   "execution_count": 8,
   "id": "5162169b",
   "metadata": {},
   "outputs": [
    {
     "name": "stderr",
     "output_type": "stream",
     "text": [
      "                                                                                \r"
     ]
    }
   ],
   "source": [
    "total_reviews_df = reviews_no_null_df.groupBy(\"asin\").agg(count(\"reviewerID\").alias(\"total_reviews\"))\n",
    "min_reviews = total_reviews_df.select(min(\"total_reviews\")).first()[0]\n",
    "max_reviews = total_reviews_df.select(max(\"total_reviews\")).first()[0]"
   ]
  },
  {
   "cell_type": "code",
   "execution_count": 9,
   "id": "0d7bb4e1",
   "metadata": {},
   "outputs": [
    {
     "name": "stderr",
     "output_type": "stream",
     "text": [
      "[Stage 16:===================================>                    (10 + 6) / 16]\r"
     ]
    },
    {
     "name": "stdout",
     "output_type": "stream",
     "text": [
      "+----------+-------------+\n",
      "|      asin|total_reviews|\n",
      "+----------+-------------+\n",
      "|B00CYQP3AK|        18623|\n",
      "+----------+-------------+\n",
      "\n"
     ]
    },
    {
     "name": "stderr",
     "output_type": "stream",
     "text": [
      "\r",
      "                                                                                \r"
     ]
    }
   ],
   "source": [
    "items_with_least_reviews_df = total_reviews_df.filter(total_reviews_df[\"total_reviews\"] ==min_reviews )\n",
    "items_with_most_reviews_df = total_reviews_df.filter(total_reviews_df[\"total_reviews\"] ==max_reviews )\n",
    "items_with_most_reviews_df.show()"
   ]
  },
  {
   "cell_type": "code",
   "execution_count": 10,
   "id": "84d94f84",
   "metadata": {},
   "outputs": [
    {
     "name": "stderr",
     "output_type": "stream",
     "text": [
      "[Stage 26:==================================================>     (10 + 1) / 11]\r"
     ]
    },
    {
     "name": "stdout",
     "output_type": "stream",
     "text": [
      "+----------+-------+--------------------+-------------+--------------+-------------+\n",
      "|      asin|overall|          reviewText|   reviewerID|unixReviewTime|review_length|\n",
      "+----------+-------+--------------------+-------------+--------------+-------------+\n",
      "|B00BHJS3C0|    5.0|I was an early ad...|AQIJ3ZEEVCIKU|    1383782400|        33608|\n",
      "+----------+-------+--------------------+-------------+--------------+-------------+\n",
      "\n"
     ]
    },
    {
     "name": "stderr",
     "output_type": "stream",
     "text": [
      "\r",
      "                                                                                \r"
     ]
    }
   ],
   "source": [
    "review_length_df = reviews_no_null_df.withColumn(\"review_length\", length(reviews_no_null_df[\"reviewText\"]))\n",
    "max_review_length = review_length_df.select(max(\"review_length\")).first()[0]\n",
    "items_with_max_review_length_df = review_length_df.filter(review_length_df[\"review_length\"] == max_review_length )\n",
    "items_with_max_review_length_df.show()"
   ]
  },
  {
   "cell_type": "code",
   "execution_count": 11,
   "id": "bfcc6826",
   "metadata": {},
   "outputs": [
    {
     "name": "stdout",
     "output_type": "stream",
     "text": [
      "+----------+-------+--------------------+--------------+--------------+--------------+\n",
      "|      asin|overall|          reviewText|    reviewerID|unixReviewTime|formatted_date|\n",
      "+----------+-------+--------------------+--------------+--------------+--------------+\n",
      "|B017O9P72A|    2.0|Can only control ...|A3KUPJ396OQF78|    1449273600|    12-05-2015|\n",
      "|B017O9P72A|    5.0|         Great skill|A3TXR8GLKS19RE|    1515974400|    01-15-2018|\n",
      "|B017O9P72A|    1.0|Not happy. Can no...|A1FOHYK23FJ6CN|    1515024000|    01-04-2018|\n",
      "|B017O9P72A|    1.0|Can not connect a...|A1RRDX9AOST1AN|    1514592000|    12-30-2017|\n",
      "|B017O9P72A|    1.0|The service works...| AA4DHYT5YSSIT|    1514505600|    12-29-2017|\n",
      "|B017O9P72A|    5.0|I haven't had any...|A2LNJJWW2TLL00|    1511481600|    11-24-2017|\n",
      "|B017O9P72A|    1.0|This app forces y...|A1M5UIUZ2P5FFO|    1511395200|    11-23-2017|\n",
      "|B017O9P72A|    4.0|This skill works ...|A18JLUE8V4G7TX|    1508371200|    10-19-2017|\n",
      "|B017O9P72A|    1.0|Who would think y...|A1E35W9YOVAH1G|    1505260800|    09-13-2017|\n",
      "|B017O9P72A|    5.0|Once I got used t...| ACZKH8ZBMNTN0|    1490659200|    03-28-2017|\n",
      "|B017O9P72A|    3.0|So far I have no ...|A3IZ10SN6PLWA1|    1489708800|    03-17-2017|\n",
      "|B017O9P72A|    1.0|As others have st...|A1CSXI9KXC34MG|    1489363200|    03-13-2017|\n",
      "|B017O9P72A|    1.0|When giving instr...|A28PQDHWYGTYCA|    1489276800|    03-12-2017|\n",
      "|B017O9P72A|    3.0|I wish I was able...|A13JBMUJ6WW7V8|    1488758400|    03-06-2017|\n",
      "|B017O9P72A|    1.0|When trying to li...|A2PR1HM2173XW0|    1488240000|    02-28-2017|\n",
      "|B017O9P72A|    1.0|Can't authorize m...|A2C0CC1OS1EVR3|    1487289600|    02-17-2017|\n",
      "|B017O9P72A|    5.0|Remember.. there ...|A1E8AT51T4RTFV|    1486944000|    02-13-2017|\n",
      "|B017O9P72A|    1.0|I love my Lifx bu...|A2GCXCN7SU3MI4|    1483833600|    01-08-2017|\n",
      "|B017O9P72A|    1.0|Will not authoriz...|A2RDT3XZJ3KO8V|    1483401600|    01-03-2017|\n",
      "|B017O9P72A|    1.0|Horrific. Lights ...|A1WP68243XC735|    1483315200|    01-02-2017|\n",
      "+----------+-------+--------------------+--------------+--------------+--------------+\n",
      "only showing top 20 rows\n",
      "\n"
     ]
    }
   ],
   "source": [
    "formatted_date_df = reviews_no_null_df.withColumn(\"formatted_date\", date_format(from_unixtime(\"unixReviewTime\"), \"MM-dd-yyyy\"))\n",
    "formatted_date_df.show()"
   ]
  },
  {
   "cell_type": "code",
   "execution_count": 12,
   "id": "3c436e3a",
   "metadata": {},
   "outputs": [
    {
     "name": "stderr",
     "output_type": "stream",
     "text": [
      "23/10/25 21:47:24 WARN MemoryManager: Total allocation exceeds 95.00% (906,992,014 bytes) of heap memory\n",
      "Scaling row group sizes to 96.54% for 7 writers\n",
      "23/10/25 21:47:24 WARN MemoryManager: Total allocation exceeds 95.00% (906,992,014 bytes) of heap memory\n",
      "Scaling row group sizes to 84.47% for 8 writers\n",
      "23/10/25 21:47:24 WARN MemoryManager: Total allocation exceeds 95.00% (906,992,014 bytes) of heap memory\n",
      "Scaling row group sizes to 75.08% for 9 writers\n",
      "23/10/25 21:47:24 WARN MemoryManager: Total allocation exceeds 95.00% (906,992,014 bytes) of heap memory\n",
      "Scaling row group sizes to 67.58% for 10 writers\n",
      "23/10/25 21:47:32 WARN MemoryManager: Total allocation exceeds 95.00% (906,992,014 bytes) of heap memory\n",
      "Scaling row group sizes to 75.08% for 9 writers\n",
      "23/10/25 21:47:32 WARN MemoryManager: Total allocation exceeds 95.00% (906,992,014 bytes) of heap memory\n",
      "Scaling row group sizes to 84.47% for 8 writers\n",
      "23/10/25 21:47:32 WARN MemoryManager: Total allocation exceeds 95.00% (906,992,014 bytes) of heap memory\n",
      "Scaling row group sizes to 96.54% for 7 writers\n",
      "                                                                                \r"
     ]
    }
   ],
   "source": [
    "#output path can be input params to job\n",
    "parquet_output_path = \"/Users/mac/tensoriot/output/output.parquet\"\n",
    "\n",
    "# Save the DataFrame in Parquet format\n",
    "formatted_date_df.write.mode(\"overwrite\").parquet(parquet_output_path)"
   ]
  },
  {
   "cell_type": "code",
   "execution_count": null,
   "id": "51752c20",
   "metadata": {},
   "outputs": [],
   "source": []
  }
 ],
 "metadata": {
  "kernelspec": {
   "display_name": "Python3.7",
   "language": "python",
   "name": "py.7"
  },
  "language_info": {
   "codemirror_mode": {
    "name": "ipython",
    "version": 3
   },
   "file_extension": ".py",
   "mimetype": "text/x-python",
   "name": "python",
   "nbconvert_exporter": "python",
   "pygments_lexer": "ipython3",
   "version": "3.7.9"
  }
 },
 "nbformat": 4,
 "nbformat_minor": 5
}
