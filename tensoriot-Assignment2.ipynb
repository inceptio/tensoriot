{
 "cells": [
  {
   "cell_type": "code",
   "execution_count": 1,
   "id": "5f76fb42",
   "metadata": {},
   "outputs": [],
   "source": [
    "from pyspark.sql import SparkSession"
   ]
  },
  {
   "cell_type": "code",
   "execution_count": 2,
   "id": "7242a033",
   "metadata": {},
   "outputs": [
    {
     "name": "stderr",
     "output_type": "stream",
     "text": [
      "23/10/25 21:57:24 WARN Utils: Your hostname, Rapidos-MacBook-Pro-85.local resolves to a loopback address: 127.0.0.1; using 172.20.10.12 instead (on interface en0)\n",
      "23/10/25 21:57:24 WARN Utils: Set SPARK_LOCAL_IP if you need to bind to another address\n",
      "Setting default log level to \"WARN\".\n",
      "To adjust logging level use sc.setLogLevel(newLevel). For SparkR, use setLogLevel(newLevel).\n",
      "23/10/25 21:57:25 WARN NativeCodeLoader: Unable to load native-hadoop library for your platform... using builtin-java classes where applicable\n",
      "23/10/25 21:57:26 WARN Utils: Service 'SparkUI' could not bind on port 4040. Attempting port 4041.\n",
      "/Users/mac/Library/Python/3.7/lib/python/site-packages/pyspark/context.py:317: FutureWarning: Python 3.7 support is deprecated in Spark 3.4.\n",
      "  warnings.warn(\"Python 3.7 support is deprecated in Spark 3.4.\", FutureWarning)\n"
     ]
    }
   ],
   "source": [
    "spark = SparkSession.builder.appName(\"tensoriot-Assignment2\") \\\n",
    ".config(\"spark.driver.extraClassPath\", \"/Users/mac/.m2/repository/mysql/mysql-connector-java/8.0.22/mysql-connector-java-8.0.22.jar\") \\\n",
    ".getOrCreate()\n"
   ]
  },
  {
   "cell_type": "code",
   "execution_count": 3,
   "id": "ed6414a4",
   "metadata": {},
   "outputs": [
    {
     "name": "stderr",
     "output_type": "stream",
     "text": [
      "                                                                                \r"
     ]
    }
   ],
   "source": [
    "parquet_output_path = \"/Users/mac/tensoriot/output/output.parquet\"\n",
    "parquet_df = spark.read.parquet(parquet_output_path)"
   ]
  },
  {
   "cell_type": "code",
   "execution_count": 4,
   "id": "5307a1e2",
   "metadata": {},
   "outputs": [],
   "source": [
    "#we can mive all this config params to constants \n",
    "jdbc_url = \"jdbc:mysql://localhost:3306/tensoriot\"\n",
    "properties = {\n",
    "    \"user\": \"root\",\n",
    "    \"password\": \"aNANt@1129\"\n",
    "}\n",
    "table_name = \"reviews\""
   ]
  },
  {
   "cell_type": "code",
   "execution_count": 5,
   "id": "b618013e",
   "metadata": {},
   "outputs": [
    {
     "name": "stderr",
     "output_type": "stream",
     "text": [
      "                                                                                \r"
     ]
    }
   ],
   "source": [
    "parquet_df.write.mode(\"overwrite\").jdbc(jdbc_url, table_name, properties=properties)\n"
   ]
  },
  {
   "cell_type": "code",
   "execution_count": null,
   "id": "e40eaaef",
   "metadata": {},
   "outputs": [],
   "source": []
  }
 ],
 "metadata": {
  "kernelspec": {
   "display_name": "Python3.7",
   "language": "python",
   "name": "py.7"
  },
  "language_info": {
   "codemirror_mode": {
    "name": "ipython",
    "version": 3
   },
   "file_extension": ".py",
   "mimetype": "text/x-python",
   "name": "python",
   "nbconvert_exporter": "python",
   "pygments_lexer": "ipython3",
   "version": "3.7.9"
  }
 },
 "nbformat": 4,
 "nbformat_minor": 5
}
